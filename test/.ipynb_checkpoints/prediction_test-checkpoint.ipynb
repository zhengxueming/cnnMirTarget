{
 "cells": [
  {
   "cell_type": "code",
   "execution_count": 6,
   "metadata": {},
   "outputs": [
    {
     "name": "stdout",
     "output_type": "stream",
     "text": [
      "interaction_hsa_miRNA     test_prediction_result.csv  transcript_sequence.txt\r\n",
      "lung_cancer_miRNA_target  test_result.ipynb\r\n",
      "prediction_test.ipynb     transcript_location\r\n"
     ]
    }
   ],
   "source": [
    "ls"
   ]
  },
  {
   "cell_type": "code",
   "execution_count": 8,
   "metadata": {},
   "outputs": [
    {
     "name": "stdout",
     "output_type": "stream",
     "text": [
      "miRNA: hsa-miR-494,gene: IGF2BP1, transcript: ENST00000290341.7,prediction result on UTR_5: \n",
      "True,  probability: [0.97357124]\n",
      "\n",
      "\n",
      "miRNA: hsa-miR-494,gene: IGF2BP1, transcript: ENST00000290341.7,prediction result on UTR_3: \n",
      "True,  probability: [0.9839085]\n",
      "\n",
      "\n",
      "=============\n",
      "miRNA: hsa-miR-494,gene: IGF2BP1, transcript: ENST00000431824.2,prediction result on UTR_5: \n",
      "True,  probability: [0.8808631]\n",
      "\n",
      "\n",
      "miRNA: hsa-miR-494,gene: IGF2BP1, transcript: ENST00000431824.2,prediction result on UTR_3: \n",
      "True,  probability: [0.97804147]\n",
      "\n",
      "\n",
      "=============\n",
      "miRNA: hsa-let-7,gene: KRAS, transcript: ENST00000311936.7,prediction result on UTR_5: \n",
      "True,  probability: [0.8151199]\n",
      "\n",
      "\n",
      "miRNA: hsa-let-7,gene: KRAS, transcript: ENST00000311936.7,prediction result on UTR_3: \n",
      "True,  probability: [0.6857751]\n",
      "\n",
      "\n",
      "=============\n",
      "miRNA: hsa-let-7,gene: KRAS, transcript: ENST00000557334.5,prediction result on UTR_5: \n",
      "False,no predicted target sequence!\n",
      "\n",
      "\n",
      "miRNA: hsa-let-7,gene: KRAS, transcript: ENST00000557334.5,prediction result on UTR_3: \n",
      "True,  probability: [0.6857751]\n",
      "\n",
      "\n",
      "=============\n",
      "miRNA: hsa-let-7,gene: KRAS, transcript: ENST00000256078.8,prediction result on UTR_5: \n",
      "False,no predicted target sequence!\n",
      "\n",
      "\n",
      "miRNA: hsa-let-7,gene: KRAS, transcript: ENST00000256078.8,prediction result on UTR_3: \n",
      "True,  probability: [0.9496712]\n",
      "\n",
      "\n",
      "=============\n",
      "miRNA: hsa-let-7,gene: KRAS, transcript: ENST00000556131.1,prediction result on UTR_5: \n",
      "True,  probability: [0.9731757]\n",
      "\n",
      "\n",
      "miRNA: hsa-let-7,gene: KRAS, transcript: ENST00000556131.1,prediction result on UTR_3: \n",
      "True,  probability: [0.91116935]\n",
      "\n",
      "\n",
      "=============\n",
      "miRNA: hsa-let-7,gene: KRAS, transcript: ENST00000311936.7,prediction result on UTR_5: \n",
      "True,  probability: [0.8151199]\n",
      "\n",
      "\n",
      "miRNA: hsa-let-7,gene: KRAS, transcript: ENST00000311936.7,prediction result on UTR_3: \n",
      "True,  probability: [0.6857751]\n",
      "\n",
      "\n",
      "=============\n"
     ]
    }
   ],
   "source": [
    "import os\n",
    "import pandas as pd\n",
    "\n",
    "result_list = []\n",
    "with open(\"transcript_sequence.txt\") as fd:\n",
    "    lines = fd.readlines()\n",
    "    for i in range(0,32,5):  # for test\n",
    "#     for i in range(0,len(lines),5):\n",
    "        each_list = []\n",
    "#         print(lines[i+3][0:2000])\n",
    "        miRNA_seq = lines[i+1].replace(\"\\n\",\"\")\n",
    "        miRNA_name = lines[i].replace(\"\\n\",\"\")\n",
    "        target_gene_name = lines[i+2].replace(\"\\n\",\"\")\n",
    "        target_transcripts_name = lines[i+3].replace(\"\\n\",\"\")\n",
    "        each_list.append(miRNA_name)     # add name\n",
    "        each_list.append(miRNA_seq)     # add miRNA sequence\n",
    "        each_list.append(target_gene_name)   # add target gene name\n",
    "        each_list.append(target_transcripts_name)   # add target transcript name\n",
    "        \n",
    "        target_seq_3 = lines[i+4][0:2000].replace(\"\\n\",\"\")\n",
    "        target_seq_5 = lines[i+4][-2000:].replace(\"\\n\",\"\")        \n",
    "        UTR_5_prediction = os.popen(\"cd /home/zheng/github/cnnMirTarget ;python3 isMirTarget.py -s %s -t %s\" \\\n",
    "                 %(miRNA_seq,target_seq_5)).read()\n",
    "        each_list.append(UTR_5_prediction)     # add 5' prediction result\n",
    "        \n",
    "        UTR_3_prediction = os.popen(\"cd /home/zheng/github/cnnMirTarget ;python3 isMirTarget.py -s %s -t %s\" \\\n",
    "                 %(miRNA_seq,target_seq_3)).read()\n",
    "        each_list.append(UTR_3_prediction)     # add 3' prediction result\n",
    "        \n",
    "        print (\"miRNA: {},gene: {}, transcript: {},prediction result on UTR_5: {}\"\\\n",
    "                                .format(miRNA_name,target_gene_name,target_transcripts_name,UTR_5_prediction))\n",
    "        print (\"miRNA: {},gene: {}, transcript: {},prediction result on UTR_3: {}\"\\\n",
    "                                .format(miRNA_name,target_gene_name,target_transcripts_name,UTR_3_prediction))\n",
    "        print(\"=============\")\n",
    "        result_list.append(each_list)\n",
    "        \n",
    "df = pd.DataFrame(result_list,columns = \\\n",
    "    [\"miRNA_name\",\"miRNA_seq\",\"target_gene_name\",\"target_transcripts_name\",\"UTR_5_prediction\",\"UTR_3_prediction\"])\n",
    "\n",
    "df.to_csv(\"test_prediction_result.csv\")\n",
    "\n",
    "\n",
    "# add the transcript id\n",
    "        "
   ]
  },
  {
   "cell_type": "code",
   "execution_count": null,
   "metadata": {},
   "outputs": [],
   "source": []
  }
 ],
 "metadata": {
  "kernelspec": {
   "display_name": "Python 3",
   "language": "python",
   "name": "python3"
  },
  "language_info": {
   "codemirror_mode": {
    "name": "ipython",
    "version": 3
   },
   "file_extension": ".py",
   "mimetype": "text/x-python",
   "name": "python",
   "nbconvert_exporter": "python",
   "pygments_lexer": "ipython3",
   "version": "3.5.2"
  }
 },
 "nbformat": 4,
 "nbformat_minor": 2
}
